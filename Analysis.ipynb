{
  "nbformat": 4,
  "nbformat_minor": 0,
  "metadata": {
    "colab": {
      "name": "Analysis.ipynb",
      "provenance": [],
      "collapsed_sections": [],
      "include_colab_link": true
    },
    "kernelspec": {
      "name": "python3",
      "display_name": "Python 3"
    },
    "language_info": {
      "name": "python"
    }
  },
  "cells": [
    {
      "cell_type": "markdown",
      "metadata": {
        "id": "view-in-github",
        "colab_type": "text"
      },
      "source": [
        "<a href=\"https://colab.research.google.com/github/nat-20/TrabajoFinal/blob/main/Analysis.ipynb\" target=\"_parent\"><img src=\"https://colab.research.google.com/assets/colab-badge.svg\" alt=\"Open In Colab\"/></a>"
      ]
    },
    {
      "cell_type": "markdown",
      "source": [
        "# PROYECTO FINAL\n",
        "\n",
        "*Tratamiento de Señales III*\n",
        "\n",
        "*Facultad de Ingeniería*\n",
        "\n",
        "*Universidad de Antioquia*\n",
        "\n",
        "*Prof. Hernán Felipe García*\n",
        "\n",
        "*Alejandra Zuleta Gónzalez, Santiago Patiño Guerrero y Natalia Pérez Puentes*\n",
        "\n",
        "*2021-2*\n",
        "\n",
        "\n",
        "Utilizaremos la base de datos [CIC-IDS2017](https://www.unb.ca/cic/datasets/ids-2017.html)\n",
        "\n",
        "\n",
        "---\n",
        "\n"
      ],
      "metadata": {
        "id": "D-24x4cVbFQd"
      }
    },
    {
      "cell_type": "markdown",
      "source": [
        "Los sistemas de detección de intrusiones (IDS) y los sistemas de prevención de intrusiones (IPS) son las herramientas de defensa más importantes contra los sofisticados y crecientes ataques a la red. Debido a la falta de conjuntos de datos de prueba y validación fiables, los enfoques de detección de intrusiones basados en anomalías sufren evoluciones de rendimiento consistentes y precisas.\n",
        "\n",
        "Las evaluaciones de los once conjuntos de datos existentes desde 1998 en el instituto de ciberseguridad de canadá muestran que la mayoría están desfasados y son poco fiables. Algunos de estos conjuntos de datos adolecen de falta de diversidad y volumen de tráfico, otros no cubren la variedad de ataques conocidos, mientras que otros anonimizan los datos de carga útil de los paquetes, lo que no puede reflejar las tendencias actuales. Algunos también carecen de un conjunto de características y metadatos.\n",
        "\n",
        "El conjunto de datos CICIDS2017 contiene los ataques benignos y los ataques comunes más actuales, que se asemejan a los verdaderos datos del mundo real (PCAPs). La generación de un tráfico de fondo realista fue la principal prioridad a la hora de crear este conjunto de datos. Se utilizó un sistema B-Profile (Sharafaldin, et al. 2016) para perfilar el comportamiento abstracto de las interacciones humanas y genera tráfico de fondo benigno naturalista. Para este conjunto de datos, se construyó el comportamiento abstracto de 25 usuarios basado en los protocolos HTTP, HTTPS, FTP, SSH y correo electrónico.\n",
        "\n",
        "El periodo de captura de datos comenzó a las 9 de la mañana del lunes 3 de julio de 2017 y finalizó a las 17 horas del viernes 7 de julio de 2017, para un total de 5 días. El lunes es el día normal y solo incluye el tráfico benigno. Los ataques ejecutados incluyen Fuerza Bruta FTP, Fuerza Bruta SSH, DoS, Heartbleed, Ataque Web, Infiltración, Botnet y DDoS. Se han ejecutado tanto por la mañana como por la tarde del martes, miércoles, jueves y viernes.\n"
      ],
      "metadata": {
        "id": "Lj5Y6NnXbR4I"
      }
    },
    {
      "cell_type": "markdown",
      "source": [
        "Cabe Aclarar que la página de la Universidad de Ciberseguridad de Canadá cuenta con una base de datos para aplicaciones de inteligencia computacional, donde las variables categóricas son removidas. Dicha base de datos es la que se importa a continuación:"
      ],
      "metadata": {
        "id": "z2sXb62Zc1ge"
      }
    },
    {
      "cell_type": "code",
      "execution_count": 1,
      "metadata": {
        "id": "yGj1TO0o6HKS"
      },
      "outputs": [],
      "source": [
        "%%capture\n",
        "!wget --load-cookies /tmp/cookies.txt \"https://docs.google.com/uc?export=download&confirm=$(wget --quiet --save-cookies /tmp/cookies.txt --keep-session-cookies --no-check-certificate 'https://docs.google.com/uc?export=download&id=13LV4QnTtI21tmp6pg5ZHJEBFxulq3aRj' -O- | sed -rn 's/.*confirm=([0-9A-Za-z_]+).*/\\1\\n/p')&id=13LV4QnTtI21tmp6pg5ZHJEBFxulq3aRj\" -O monday.csv && rm -rf /tmp/cookies.txt \n",
        "!wget --load-cookies /tmp/cookies.txt \"https://docs.google.com/uc?export=download&confirm=$(wget --quiet --save-cookies /tmp/cookies.txt --keep-session-cookies --no-check-certificate 'https://docs.google.com/uc?export=download&id=13VRs5fj-QoP2sbZE8X7Maes6lwxf_3K2' -O- | sed -rn 's/.*confirm=([0-9A-Za-z_]+).*/\\1\\n/p')&id=13VRs5fj-QoP2sbZE8X7Maes6lwxf_3K2\" -O tuesday.csv && rm -rf /tmp/cookies.txt\n",
        "!wget --load-cookies /tmp/cookies.txt \"https://docs.google.com/uc?export=download&confirm=$(wget --quiet --save-cookies /tmp/cookies.txt --keep-session-cookies --no-check-certificate 'https://docs.google.com/uc?export=download&id=13OIvjFVRM59tBnKgWe-dFmTihXAnk5aJ' -O- | sed -rn 's/.*confirm=([0-9A-Za-z_]+).*/\\1\\n/p')&id=13OIvjFVRM59tBnKgWe-dFmTihXAnk5aJ\" -O wednesday.csv && rm -rf /tmp/cookies.txt\n",
        "!wget --load-cookies /tmp/cookies.txt \"https://docs.google.com/uc?export=download&confirm=$(wget --quiet --save-cookies /tmp/cookies.txt --keep-session-cookies --no-check-certificate 'https://docs.google.com/uc?export=download&id=13GUcNrwBk_AnZUc3iZBav3ozMy25pfRh' -O- | sed -rn 's/.*confirm=([0-9A-Za-z_]+).*/\\1\\n/p')&id=13GUcNrwBk_AnZUc3iZBav3ozMy25pfRh\" -O thursday_morning.csv && rm -rf /tmp/cookies.txt\n",
        "!wget --load-cookies /tmp/cookies.txt \"https://docs.google.com/uc?export=download&confirm=$(wget --quiet --save-cookies /tmp/cookies.txt --keep-session-cookies --no-check-certificate 'https://docs.google.com/uc?export=download&id=13CIJP9Jf3PDQ0vyfwQgALZd3YyoL6vlu' -O- | sed -rn 's/.*confirm=([0-9A-Za-z_]+).*/\\1\\n/p')&id=13CIJP9Jf3PDQ0vyfwQgALZd3YyoL6vlu\" -O thursday_afternoon.csv && rm -rf /tmp/cookies.txt \n",
        "!wget --load-cookies /tmp/cookies.txt \"https://docs.google.com/uc?export=download&confirm=$(wget --quiet --save-cookies /tmp/cookies.txt --keep-session-cookies --no-check-certificate 'https://docs.google.com/uc?export=download&id=13SRgNHXw7UJmiQLJjov7xupWuDw4VFix' -O- | sed -rn 's/.*confirm=([0-9A-Za-z_]+).*/\\1\\n/p')&id=13SRgNHXw7UJmiQLJjov7xupWuDw4VFix\" -O friday_morning.csv && rm -rf /tmp/cookies.txt\n",
        "!wget --load-cookies /tmp/cookies.txt \"https://docs.google.com/uc?export=download&confirm=$(wget --quiet --save-cookies /tmp/cookies.txt --keep-session-cookies --no-check-certificate 'https://docs.google.com/uc?export=download&id=13EEFceZOCkCEVBud6eHOQ4Yr2_uVdOR2' -O- | sed -rn 's/.*confirm=([0-9A-Za-z_]+).*/\\1\\n/p')&id=13EEFceZOCkCEVBud6eHOQ4Yr2_uVdOR2\" -O friday_afternoon_1.csv && rm -rf /tmp/cookies.txt\n",
        "!wget --load-cookies /tmp/cookies.txt \"https://docs.google.com/uc?export=download&confirm=$(wget --quiet --save-cookies /tmp/cookies.txt --keep-session-cookies --no-check-certificate 'https://docs.google.com/uc?export=download&id=13NUaGG1su72XNHZ3IXka80uWHbPnx28U' -O- | sed -rn 's/.*confirm=([0-9A-Za-z_]+).*/\\1\\n/p')&id=13NUaGG1su72XNHZ3IXka80uWHbPnx28U\" -O friday_afternoon_2.csv && rm -rf /tmp/cookies.txt"
      ]
    },
    {
      "cell_type": "code",
      "source": [
        "#librerías\n",
        "import pandas as pd\n",
        "import numpy as np\n",
        "import matplotlib.pyplot as plt\n",
        "from sklearn import svm\n",
        "from sklearn.metrics import ConfusionMatrixDisplay, confusion_matrix\n",
        "from sklearn.preprocessing import StandardScaler\n",
        "import seaborn as sn"
      ],
      "metadata": {
        "id": "sextu10Mnpap"
      },
      "execution_count": 2,
      "outputs": []
    },
    {
      "cell_type": "code",
      "source": [
        "df_monday=pd.read_csv(\"monday.csv\")\n",
        "df_tuesday=pd.read_csv(\"tuesday.csv\")\n",
        "df_wednesday=pd.read_csv(\"wednesday.csv\")\n",
        "df_thursday_morning=pd.read_csv(\"thursday_morning.csv\")\n",
        "df_thursday_afternoon=pd.read_csv(\"thursday_afternoon.csv\")\n",
        "df_friday_morning=pd.read_csv(\"friday_morning.csv\")\n",
        "df_friday_afternoon_1=pd.read_csv(\"friday_afternoon_1.csv\")\n",
        "df_friday_afternoon_2=pd.read_csv(\"friday_afternoon_2.csv\")"
      ],
      "metadata": {
        "id": "aAk_3ttU6p_p"
      },
      "execution_count": 3,
      "outputs": []
    },
    {
      "cell_type": "code",
      "source": [
        "df_attack = df_monday.append(df_tuesday, ignore_index=True)\n",
        "df_attack = df_attack.append(df_wednesday, ignore_index=True)\n",
        "df_attack = df_attack.append(df_thursday_morning, ignore_index=True)\n",
        "df_attack = df_attack.append(df_thursday_afternoon, ignore_index=True)\n",
        "df_attack = df_attack.append(df_friday_morning, ignore_index=True)\n",
        "df_attack = df_attack.append(df_friday_afternoon_1, ignore_index=True)\n",
        "df_attack = df_attack.append(df_friday_afternoon_2, ignore_index=True)"
      ],
      "metadata": {
        "id": "soJIw47bNKdl"
      },
      "execution_count": 4,
      "outputs": []
    },
    {
      "cell_type": "code",
      "source": [
        "df_attack.iloc[:,-1].value_counts()"
      ],
      "metadata": {
        "colab": {
          "base_uri": "https://localhost:8080/"
        },
        "id": "yiYqd90mhzgK",
        "outputId": "7703634c-35cd-4321-bc66-778cf91cd66f"
      },
      "execution_count": 5,
      "outputs": [
        {
          "output_type": "execute_result",
          "data": {
            "text/plain": [
              "BENIGN                        2273097\n",
              "DoS Hulk                       231073\n",
              "PortScan                       158930\n",
              "DDoS                           128027\n",
              "DoS GoldenEye                   10293\n",
              "FTP-Patator                      7938\n",
              "SSH-Patator                      5897\n",
              "DoS slowloris                    5796\n",
              "DoS Slowhttptest                 5499\n",
              "Bot                              1966\n",
              "Web Attack � Brute Force         1507\n",
              "Web Attack � XSS                  652\n",
              "Infiltration                       36\n",
              "Web Attack � Sql Injection         21\n",
              "Heartbleed                         11\n",
              "Name:  Label, dtype: int64"
            ]
          },
          "metadata": {},
          "execution_count": 5
        }
      ]
    },
    {
      "cell_type": "markdown",
      "source": [
        "De la ejecución de la anterior celda se puede evidenciar que la base de datos está bastante desbalanceada, pero este es el comportamiento que se tiene en la vida real."
      ],
      "metadata": {
        "id": "5Aay4yidc9oR"
      }
    },
    {
      "cell_type": "code",
      "source": [
        "y_new = df_attack.iloc[:,-1]\n",
        "y_new[np.where(df_attack.iloc[:,-1] != 'BENIGN')[0]] = 'Attack'"
      ],
      "metadata": {
        "colab": {
          "base_uri": "https://localhost:8080/"
        },
        "id": "-k8FDLDFvOvb",
        "outputId": "baf7102e-4995-4e70-809e-6e16add637e7"
      },
      "execution_count": 9,
      "outputs": [
        {
          "output_type": "stream",
          "name": "stderr",
          "text": [
            "/usr/local/lib/python3.7/dist-packages/ipykernel_launcher.py:2: SettingWithCopyWarning: \n",
            "A value is trying to be set on a copy of a slice from a DataFrame\n",
            "\n",
            "See the caveats in the documentation: https://pandas.pydata.org/pandas-docs/stable/user_guide/indexing.html#returning-a-view-versus-a-copy\n",
            "  \n"
          ]
        }
      ]
    },
    {
      "cell_type": "code",
      "source": [
        "X = df_attack.iloc[:,:78]\n",
        "X = X.values\n",
        "y = y_new.values\n",
        "\n",
        "X = X[~np.isnan(X).any(axis=1), :]\n",
        "y = y[np.where(~np.isnan(X).any(axis=1)==True)[0]]\n",
        "X = X[~np.isinf(X).any(axis=1), :]\n",
        "y = y[np.where(~np.isinf(X).any(axis=1)==True)[0]]\n",
        "\n",
        "scaler = StandardScaler()\n",
        "X = scaler.fit_transform(X)\n",
        "\n",
        "y = y.reshape(-1,1)\n",
        "\n",
        "print(X.shape)\n",
        "print(y.shape)"
      ],
      "metadata": {
        "colab": {
          "base_uri": "https://localhost:8080/"
        },
        "id": "WGFKRy6rwZDL",
        "outputId": "ea6aa2c2-c8c7-4faf-9ebe-a8efe9bd886e"
      },
      "execution_count": 10,
      "outputs": [
        {
          "output_type": "stream",
          "name": "stdout",
          "text": [
            "(2827876, 78)\n",
            "(2827876, 1)\n"
          ]
        }
      ]
    },
    {
      "cell_type": "markdown",
      "source": [
        "Se decide utilizar el 70% de los datos para entrenamiento y el 30% de los datos para prueba."
      ],
      "metadata": {
        "id": "U93ra3dlleMW"
      }
    },
    {
      "cell_type": "code",
      "source": [
        "from sklearn.model_selection import train_test_split\n",
        "X_train, X_test, y_train, y_test = train_test_split(X, y, test_size=0.3, random_state=42)"
      ],
      "metadata": {
        "id": "bWu1d3o-wxyp"
      },
      "execution_count": 11,
      "outputs": []
    },
    {
      "cell_type": "markdown",
      "source": [
        "## 2 Clases: 'BENIGN' and 'Attack'\n",
        "\n",
        "Inicialmente se realiza una clasificación binaria para detectar si hay o no ataques. Para esto se utiliza el MLPClassifier y el RandomForestClassifier **con y sin PCA**.\n",
        "\n",
        "El [MLPClassifier](https://scikit-learn.org/stable/modules/generated/sklearn.ensemble.RandomForestClassifier.html), es un clasificador Perceptron multicapa. Este modelo optimiza la función de pérdida utilizando LBFGS o descenso de gradiente estocástico.\n",
        "\n",
        "Por otra parte, el [RandomForestClassifier](https://scikit-learn.org/stable/modules/generated/sklearn.neural_network.MLPClassifier.html) es un metaestimador que ajusta una serie de clasificadores de árboles de decisión en varias submuestras del conjunto de datos y utiliza el promedio para mejorar la precisión predictiva y controlar el sobreajuste."
      ],
      "metadata": {
        "id": "45QVpYQc0-9H"
      }
    },
    {
      "cell_type": "code",
      "source": [
        "from sklearn.neural_network import MLPClassifier"
      ],
      "metadata": {
        "id": "5hH6KlWq7FxY"
      },
      "execution_count": 12,
      "outputs": []
    },
    {
      "cell_type": "code",
      "source": [
        "clf = MLPClassifier(random_state=1, max_iter=300).fit(X_train, y_train)\n",
        "y_pred = clf.predict(X_test)"
      ],
      "metadata": {
        "colab": {
          "base_uri": "https://localhost:8080/"
        },
        "id": "-kIa4nqrwj-N",
        "outputId": "64afb420-7d0d-4ed5-ca74-2f5e845c03b5"
      },
      "execution_count": 14,
      "outputs": [
        {
          "output_type": "stream",
          "name": "stderr",
          "text": [
            "/usr/local/lib/python3.7/dist-packages/sklearn/neural_network/_multilayer_perceptron.py:1109: DataConversionWarning: A column-vector y was passed when a 1d array was expected. Please change the shape of y to (n_samples, ), for example using ravel().\n",
            "  y = column_or_1d(y, warn=True)\n",
            "/usr/local/lib/python3.7/dist-packages/sklearn/neural_network/_multilayer_perceptron.py:699: UserWarning: Training interrupted by user.\n",
            "  warnings.warn(\"Training interrupted by user.\")\n"
          ]
        }
      ]
    },
    {
      "cell_type": "code",
      "source": [
        "print('Model Score:', clf.score(X_test, y_test))"
      ],
      "metadata": {
        "colab": {
          "base_uri": "https://localhost:8080/"
        },
        "id": "_qyCtVrTzF7b",
        "outputId": "b91a1ea0-38a9-4d25-a08e-3d9dd360b54a"
      },
      "execution_count": 15,
      "outputs": [
        {
          "output_type": "stream",
          "name": "stdout",
          "text": [
            "Model Score: 0.9273141332189169\n"
          ]
        }
      ]
    },
    {
      "cell_type": "code",
      "source": [
        "cm = confusion_matrix(y_test, y_pred)\n",
        "cmp = ConfusionMatrixDisplay(cm,display_labels=np.unique(y))\n",
        "fig, ax = plt.subplots(figsize=(10,10))\n",
        "cmp.plot(ax=ax,cmap='pink')\n",
        "plt.show()"
      ],
      "metadata": {
        "colab": {
          "base_uri": "https://localhost:8080/",
          "height": 574
        },
        "id": "a8GrUukc1nz8",
        "outputId": "1ee47940-d4be-47eb-c2b0-474a940b1852"
      },
      "execution_count": 16,
      "outputs": [
        {
          "output_type": "display_data",
          "data": {
            "text/plain": [
              "<Figure size 720x720 with 2 Axes>"
            ],
            "image/png": "[encoded data removed]"
          },
          "metadata": {
            "needs_background": "light"
          }
        }
      ]
    },
    {
      "cell_type": "code",
      "source": [
        "from sklearn.ensemble import RandomForestClassifier\n",
        "model = RandomForestClassifier(n_estimators=5).fit(X_train, y_train)\n",
        "y_pred_ran = model.predict(X_test)"
      ],
      "metadata": {
        "colab": {
          "base_uri": "https://localhost:8080/"
        },
        "id": "wcve5_E83UeL",
        "outputId": "65e8d6c6-4385-469e-e62f-8dddea9b5d96"
      },
      "execution_count": 12,
      "outputs": [
        {
          "output_type": "stream",
          "name": "stderr",
          "text": [
            "/usr/local/lib/python3.7/dist-packages/ipykernel_launcher.py:2: DataConversionWarning: A column-vector y was passed when a 1d array was expected. Please change the shape of y to (n_samples,), for example using ravel().\n",
            "  \n"
          ]
        }
      ]
    },
    {
      "cell_type": "code",
      "source": [
        "print('Model Score: ', model.score(X_test, y_test))"
      ],
      "metadata": {
        "colab": {
          "base_uri": "https://localhost:8080/"
        },
        "id": "akvYrKuF3gE3",
        "outputId": "4b250496-dbb1-477c-d833-36231e76aed2"
      },
      "execution_count": 13,
      "outputs": [
        {
          "output_type": "stream",
          "name": "stdout",
          "text": [
            "Model Score:  0.9396378672808692\n"
          ]
        }
      ]
    },
    {
      "cell_type": "code",
      "source": [
        "cm = confusion_matrix(y_test, y_pred_ran)\n",
        "cmp = ConfusionMatrixDisplay(cm,display_labels=np.unique(y))\n",
        "fig, ax = plt.subplots(figsize=(10,10))\n",
        "cmp.plot(ax=ax,cmap='pink')\n",
        "plt.show()"
      ],
      "metadata": {
        "colab": {
          "base_uri": "https://localhost:8080/",
          "height": 574
        },
        "id": "d-Qqiw384ppe",
        "outputId": "17d7a90f-3699-4e11-f930-07e617eefd44"
      },
      "execution_count": 14,
      "outputs": [
        {
          "output_type": "display_data",
          "data": {
            "text/plain": [
              "<Figure size 720x720 with 2 Axes>"
            ],
            "image/png": "[encoded data removed]"
          },
          "metadata": {
            "needs_background": "light"
          }
        }
      ]
    },
    {
      "cell_type": "markdown",
      "source": [
        "### Observaciones\n",
        "El score obtenido es 92.73% y 93.9% para el MLP y el RandomForest respectivamente. Cabe aclarar que por el volumen de datos las simulaciones se demoraban mucho, por esto se dejaba entrenar el sistema alrededor de 20 minutos y el score y la matriz de confusión se sacaban con base al mejor modelo que el sistema obtuvo en este tiempo. Sin embargo, los resultados obtenidos son buenos a pesar del desbalance de la base de datos y que el no se llega al mejor modelo, por lo que se podrían mejorar estos resultados. \n",
        "\n",
        "A continuación se aplica PCA y se vuelve a implementar el clasificador RandomForest, obteniendo lo siguiente:"
      ],
      "metadata": {
        "id": "k-Xl6X10fOXq"
      }
    },
    {
      "cell_type": "code",
      "source": [
        "from sklearn.decomposition import KernelPCA, PCA\n",
        "\n",
        "pca = PCA(n_components=int(20))\n",
        "X_pca = pca.fit_transform(X) # Transformamos los datos al espacio latente\n",
        "\n",
        "#kernel_pca = KernelPCA(n_components=20, kernel='sigmoid', gamma=2)\n",
        "#X_pca = kernel_pca.fit_transform(X)\n",
        "print(\"original shape:   \", X.shape)\n",
        "print(\"transformed shape:\", X_pca.shape)\n",
        "\n",
        "X_train_PCA, X_test_PCA, y_train_PCA, y_test_PCA = train_test_split(X_pca, y, test_size=0.3, random_state=42)\n",
        "plt.plot(np.cumsum(pca.explained_variance_)/np.sum(pca.explained_variance_))"
      ],
      "metadata": {
        "id": "TBU5m9Tcg2Jv"
      },
      "execution_count": null,
      "outputs": []
    },
    {
      "cell_type": "code",
      "source": [
        "from sklearn.ensemble import RandomForestClassifier\n",
        "model = RandomForestClassifier(n_estimators=5).fit(X_train_PCA, y_train_PCA)\n",
        "y_pred_ran_PCA = model.predict(X_test_PCA)"
      ],
      "metadata": {
        "id": "qNLvOhQmj1sq"
      },
      "execution_count": null,
      "outputs": []
    },
    {
      "cell_type": "code",
      "source": [
        "print('Model Score: ', model.score(X_test_PCA, y_test_PCA))"
      ],
      "metadata": {
        "id": "VQFh-mpgkAQE"
      },
      "execution_count": null,
      "outputs": []
    },
    {
      "cell_type": "code",
      "source": [
        "cm = confusion_matrix(y_test_PCA, y_pred_ran_PCA)\n",
        "cmp = ConfusionMatrixDisplay(cm,display_labels=np.unique(y))\n",
        "fig, ax = plt.subplots(figsize=(10,10))\n",
        "cmp.plot(ax=ax,cmap='pink')\n",
        "plt.show()"
      ],
      "metadata": {
        "id": "PlozNOsykDaz"
      },
      "execution_count": null,
      "outputs": []
    },
    {
      "cell_type": "markdown",
      "source": [
        "### Observaciones"
      ],
      "metadata": {
        "id": "qs4maqmvkZwv"
      }
    },
    {
      "cell_type": "markdown",
      "source": [
        "# Clasificación multiclase\n",
        "\n",
        "A continuación se realiza una clasificación de las 15 clases utilizando una SVM, el randomForestClassifier y el MLPClassifier, en donde se aplica PCA para reducir la dimensionalidad de las variables puesto que se tienen 78 características. También dado el volumen de datos y las limitaciones de RAM de Colab, se opta por utilizar el 20% de los datos de cada una de las clases, para mantener la distribución inicial.\n",
        "\n",
        "Una SVM o máquina de soporte vectorial funciona correlacionando datos a un espacio de características de grandes dimensiones de forma que los puntos de datos se puedan categorizar, incluso si los datos no se puedan separar linealmente de otro modo."
      ],
      "metadata": {
        "id": "GV_VLW0ghjrE"
      }
    },
    {
      "cell_type": "code",
      "source": [
        "df_bening = df_attack.loc[df_attack[' Label'] == 'BENIGN']\n",
        "df_Dos_Hulk = df_attack.loc[df_attack[' Label'] == 'DoS Hulk']\n",
        "df_PortScan = df_attack.loc[df_attack[' Label'] == 'PortScan']\n",
        "df_DDoS = df_attack.loc[df_attack[' Label'] == 'DDoS']\n",
        "df_DoS_GoldenEye = df_attack.loc[df_attack[' Label'] == 'DoS GoldenEye']\n",
        "df_FTP_Patator = df_attack.loc[df_attack[' Label'] == 'FTP-Patator']\n",
        "df_SSH_Patator = df_attack.loc[df_attack[' Label'] == 'SSH-Patator']\n",
        "df_DoS_slowloris = df_attack.loc[df_attack[' Label'] == 'DoS slowloris']\n",
        "df_DoS_Slowhttptest = df_attack.loc[df_attack[' Label'] == 'DoS Slowhttptest']\n",
        "df_Web_Attack_Brute_Force = df_attack.loc[df_attack[' Label'] == 'Web Attack � Brute Force']\n",
        "df_Bot = df_attack.loc[df_attack[' Label'] == 'Bot']\n",
        "df_Web_Attack_XSS  = df_attack.loc[df_attack[' Label'] == 'Web Attack � XSS']\n",
        "df_Infiltration = df_attack.loc[df_attack[' Label'] == 'Infiltration']\n",
        "df_Web_Attack_Sql_Injection = df_attack.loc[df_attack[' Label'] == 'Web Attack � Sql Injection']\n",
        "df_Heartbleed = df_attack.loc[df_attack[' Label'] == 'Heartbleed']"
      ],
      "metadata": {
        "id": "4a6oqRhd0Ygb"
      },
      "execution_count": 6,
      "outputs": []
    },
    {
      "cell_type": "code",
      "source": [
        "df_new = df_bening.sample(n=int(np.round(df_bening.shape[0]*0.2)),random_state=42)\n",
        "df_new = df_new.append(df_Dos_Hulk.sample(n=int(np.round(df_Dos_Hulk.shape[0]*0.2)),random_state=42),ignore_index=True)\n",
        "df_new = df_new.append(df_PortScan.sample(n=int(np.round(df_PortScan.shape[0]*0.2)),random_state=42),ignore_index=True)\n",
        "df_new = df_new.append(df_DDoS.sample(n=int(np.round(df_DDoS.shape[0]*0.2)),random_state=42),ignore_index=True)\n",
        "df_new = df_new.append(df_DoS_GoldenEye.sample(n=int(np.round(df_DoS_GoldenEye.shape[0]*0.2)),random_state=42),ignore_index=True)\n",
        "df_new = df_new.append(df_FTP_Patator.sample(n=int(np.round(df_FTP_Patator.shape[0]*0.2)),random_state=42),ignore_index=True)\n",
        "df_new = df_new.append(df_SSH_Patator.sample(n=int(np.round(df_SSH_Patator.shape[0]*0.2)),random_state=42),ignore_index=True)\n",
        "df_new = df_new.append(df_DoS_slowloris.sample(n=int(np.round(df_DoS_slowloris.shape[0]*0.2)),random_state=42),ignore_index=True)\n",
        "df_new = df_new.append(df_DoS_Slowhttptest.sample(n=int(np.round(df_DoS_Slowhttptest.shape[0]*0.2)),random_state=42),ignore_index=True)\n",
        "df_new = df_new.append(df_Web_Attack_Brute_Force.sample(n=int(np.round(df_Web_Attack_Brute_Force.shape[0]*0.2)),random_state=42),ignore_index=True)\n",
        "df_new = df_new.append(df_Bot.sample(n=int(np.round(df_Bot.shape[0]*0.2)),random_state=42),ignore_index=True)\n",
        "df_new = df_new.append(df_Web_Attack_XSS.sample(n=int(np.round(df_Web_Attack_XSS.shape[0]*0.2)),random_state=42),ignore_index=True)\n",
        "df_new = df_new.append(df_Infiltration.sample(n=int(np.round(df_Infiltration.shape[0]*0.2)),random_state=42),ignore_index=True)\n",
        "df_new = df_new.append(df_Web_Attack_Sql_Injection.sample(n=int(np.round(df_Web_Attack_Sql_Injection.shape[0]*0.2)),random_state=42),ignore_index=True)\n",
        "df_new = df_new.append(df_Heartbleed.sample(n=int(np.round(df_Heartbleed.shape[0]*0.2)),random_state=42),ignore_index=True)"
      ],
      "metadata": {
        "id": "ESXjj5FByUkv"
      },
      "execution_count": 7,
      "outputs": []
    },
    {
      "cell_type": "code",
      "source": [
        "df_new.shape"
      ],
      "metadata": {
        "colab": {
          "base_uri": "https://localhost:8080/"
        },
        "id": "XuEGZ00o3sb1",
        "outputId": "3e5c5d83-6ad2-499f-e857-30f480c4d18b"
      },
      "execution_count": null,
      "outputs": [
        {
          "output_type": "execute_result",
          "data": {
            "text/plain": [
              "(566147, 79)"
            ]
          },
          "metadata": {},
          "execution_count": 14
        }
      ]
    },
    {
      "cell_type": "code",
      "source": [
        "print(len(df_new.iloc[:,-1].value_counts()))\n",
        "df_new.iloc[:,-1].value_counts()"
      ],
      "metadata": {
        "colab": {
          "base_uri": "https://localhost:8080/"
        },
        "id": "NSysp5U030DE",
        "outputId": "f1561ac5-d03f-451e-bcb7-0c1eb637121b"
      },
      "execution_count": null,
      "outputs": [
        {
          "output_type": "stream",
          "name": "stdout",
          "text": [
            "15\n"
          ]
        },
        {
          "output_type": "execute_result",
          "data": {
            "text/plain": [
              "BENIGN                        454619\n",
              "DoS Hulk                       46215\n",
              "PortScan                       31786\n",
              "DDoS                           25605\n",
              "DoS GoldenEye                   2059\n",
              "FTP-Patator                     1588\n",
              "SSH-Patator                     1179\n",
              "DoS slowloris                   1159\n",
              "DoS Slowhttptest                1100\n",
              "Bot                              393\n",
              "Web Attack � Brute Force         301\n",
              "Web Attack � XSS                 130\n",
              "Infiltration                       7\n",
              "Web Attack � Sql Injection         4\n",
              "Heartbleed                         2\n",
              "Name:  Label, dtype: int64"
            ]
          },
          "metadata": {},
          "execution_count": 15
        }
      ]
    },
    {
      "cell_type": "code",
      "source": [
        "from sklearn.model_selection import train_test_split\n",
        "from sklearn.preprocessing import StandardScaler"
      ],
      "metadata": {
        "id": "SfQ-H8B05iSi"
      },
      "execution_count": null,
      "outputs": []
    },
    {
      "cell_type": "code",
      "source": [
        "X = df_attack.iloc[:,:78]\n",
        "y = df_attack.iloc[:,-1]\n",
        "X = X.values\n",
        "y = y.values\n",
        "\n",
        "X = X[~np.isnan(X).any(axis=1), :]\n",
        "y = y[np.where(~np.isnan(X).any(axis=1)==True)[0]]\n",
        "X = X[~np.isinf(X).any(axis=1), :]\n",
        "y = y[np.where(~np.isinf(X).any(axis=1)==True)[0]]\n",
        "\n",
        "scaler = StandardScaler()\n",
        "X = scaler.fit_transform(X)\n",
        "\n",
        "y = y.reshape(-1,1)\n",
        "\n",
        "print(X.shape)\n",
        "print(y.shape)"
      ],
      "metadata": {
        "colab": {
          "base_uri": "https://localhost:8080/"
        },
        "id": "KU8gJo0C4IOB",
        "outputId": "4288be2f-0531-46c9-b25e-c4268b8a79e6"
      },
      "execution_count": null,
      "outputs": [
        {
          "output_type": "stream",
          "name": "stdout",
          "text": [
            "(565578, 78)\n",
            "(565578, 1)\n"
          ]
        }
      ]
    },
    {
      "cell_type": "code",
      "source": [
        "from sklearn.decomposition import KernelPCA, PCA\n",
        "\n",
        "pca = PCA(n_components=int(20))\n",
        "X_pca = pca.fit_transform(X) # Transformamos los datos al espacio latente\n",
        "\n",
        "#kernel_pca = KernelPCA(n_components=20, kernel='sigmoid', gamma=2)\n",
        "#X_pca = kernel_pca.fit_transform(X)\n",
        "print(\"original shape:   \", X.shape)\n",
        "print(\"transformed shape:\", X_pca.shape)\n",
        "\n",
        "#X_train, X_test, y_train, y_test = train_test_split(X_pca, y, test_size=0.3, random_state=42)\n",
        "X_train_PCA, X_test_PCA, y_train_PCA, y_test_PCA = train_test_split(X_pca, y, test_size=0.3, random_state=42)\n",
        "plt.plot(np.cumsum(pca.explained_variance_)/np.sum(pca.explained_variance_))"
      ],
      "metadata": {
        "colab": {
          "base_uri": "https://localhost:8080/"
        },
        "id": "hU_7yrPv4-BT",
        "outputId": "88cd630b-9e74-461a-b437-817a92c5108b"
      },
      "execution_count": null,
      "outputs": [
        {
          "output_type": "stream",
          "name": "stdout",
          "text": [
            "original shape:    (565578, 78)\n",
            "transformed shape: (565578, 20)\n"
          ]
        }
      ]
    },
    {
      "cell_type": "code",
      "source": [
        "modelSVM = svm.SVC(C = 10, kernel = 'rbf')\n",
        "modelSVM.fit(X_train,y_train)\n",
        "yPred = modelSVM.predict(X_test)"
      ],
      "metadata": {
        "colab": {
          "base_uri": "https://localhost:8080/"
        },
        "id": "CKBX6mkRAaEx",
        "outputId": "cd2beb6f-8a92-4532-e8d9-62f6044685db"
      },
      "execution_count": null,
      "outputs": [
        {
          "output_type": "stream",
          "name": "stderr",
          "text": [
            "/usr/local/lib/python3.7/dist-packages/sklearn/utils/validation.py:993: DataConversionWarning: A column-vector y was passed when a 1d array was expected. Please change the shape of y to (n_samples, ), for example using ravel().\n",
            "  y = column_or_1d(y, warn=True)\n"
          ]
        }
      ]
    },
    {
      "cell_type": "code",
      "source": [
        "print('Model Score: ', modelSVM.score(X_test, y_test))"
      ],
      "metadata": {
        "id": "DMQ-Cw2eU_0N"
      },
      "execution_count": null,
      "outputs": []
    },
    {
      "cell_type": "code",
      "source": [
        "cm = confusion_matrix(y_test, yPred)\n",
        "porcentajeAcierto = np.sum(np.diag(cm)) / len(y_test)\n",
        "print('Acc: ',porcentajeAcierto)\n",
        "cmp = ConfusionMatrixDisplay(cm,display_labels=np.unique(y))\n",
        "fig, ax = plt.subplots(figsize=(15,15))\n",
        "cmp.plot(ax=ax,cmap='pink')\n",
        "plt.show()"
      ],
      "metadata": {
        "id": "A9S_NFUGAnUl"
      },
      "execution_count": null,
      "outputs": []
    }
  ]
}